{
  "cells": [
    {
      "cell_type": "markdown",
      "metadata": {
        "id": "view-in-github",
        "colab_type": "text"
      },
      "source": [
        "<a href=\"https://colab.research.google.com/github/Xuanyiyiren/Intersting-things/blob/main/FDU_AI_PRML_Exercise1.ipynb\" target=\"_parent\"><img src=\"https://colab.research.google.com/assets/colab-badge.svg\" alt=\"Open In Colab\"/></a>"
      ]
    },
    {
      "cell_type": "markdown",
      "source": [
        "If your network is bad, I recommand you to work it out on your local device."
      ],
      "metadata": {
        "id": "7l0vCvLHUH84"
      },
      "id": "7l0vCvLHUH84"
    },
    {
      "cell_type": "code",
      "source": [
        "from google.colab import drive\n",
        "drive.mount('/content/drive')\n",
        "!rm -rf sample_data\n",
        "!sudo apt-get install tree"
      ],
      "metadata": {
        "colab": {
          "base_uri": "https://localhost:8080/"
        },
        "id": "URF8eWvAI3gP",
        "outputId": "1fd63340-542d-4652-b2f0-eed73f98ae7e"
      },
      "id": "URF8eWvAI3gP",
      "execution_count": null,
      "outputs": [
        {
          "output_type": "stream",
          "name": "stdout",
          "text": [
            "Drive already mounted at /content/drive; to attempt to forcibly remount, call drive.mount(\"/content/drive\", force_remount=True).\n"
          ]
        }
      ]
    },
    {
      "cell_type": "code",
      "source": [
        "!tree fduml"
      ],
      "metadata": {
        "colab": {
          "base_uri": "https://localhost:8080/"
        },
        "id": "P1K7xhcZgb6p",
        "outputId": "ed56ee37-44b4-4712-c882-b77236fda5f9"
      },
      "id": "P1K7xhcZgb6p",
      "execution_count": null,
      "outputs": [
        {
          "output_type": "stream",
          "name": "stdout",
          "text": [
            "\u001b[01;34mfduml\u001b[0m\n",
            "├── \u001b[00m__init__.py\u001b[0m\n",
            "├── \u001b[01;34mlinear_model\u001b[0m\n",
            "│   ├── \u001b[00m__init__.py\u001b[0m\n",
            "│   ├── \u001b[00mlinear.py\u001b[0m\n",
            "│   ├── \u001b[00mlinear_reg.py\u001b[0m\n",
            "│   ├── \u001b[01;34m__pycache__\u001b[0m\n",
            "│   │   ├── \u001b[00m__init__.cpython-310.pyc\u001b[0m\n",
            "│   │   ├── \u001b[00mlinear.cpython-310.pyc\u001b[0m\n",
            "│   │   ├── \u001b[00mlinear_reg.cpython-310.pyc\u001b[0m\n",
            "│   │   └── \u001b[00msoftmax.cpython-310.pyc\u001b[0m\n",
            "│   ├── \u001b[00msoftmax.py\u001b[0m\n",
            "│   └── \u001b[01;34mtests\u001b[0m\n",
            "│       ├── \u001b[00m__init__.py\u001b[0m\n",
            "│       ├── \u001b[01;34m__pycache__\u001b[0m\n",
            "│       │   ├── \u001b[00m__init__.cpython-310.pyc\u001b[0m\n",
            "│       │   ├── \u001b[00mtest_linear_reg.cpython-310.pyc\u001b[0m\n",
            "│       │   └── \u001b[00mtest_softmax.cpython-310.pyc\u001b[0m\n",
            "│       ├── \u001b[00mtest_linear_reg.py\u001b[0m\n",
            "│       └── \u001b[00mtest_softmax.py\u001b[0m\n",
            "└── \u001b[01;34m__pycache__\u001b[0m\n",
            "    └── \u001b[00m__init__.cpython-310.pyc\u001b[0m\n",
            "\n",
            "5 directories, 16 files\n"
          ]
        }
      ]
    },
    {
      "cell_type": "markdown",
      "source": [
        "Get initial data and code:"
      ],
      "metadata": {
        "id": "KQ2zegMoJq60"
      },
      "id": "KQ2zegMoJq60"
    },
    {
      "cell_type": "code",
      "source": [
        "!git clone https://github.com/dest1n1s/FDU-AI-PRML-2024Fall.git\n",
        "!mv FDU-AI-PRML-2024Fall/Exercises/Exercise1/data .\n",
        "!cp -rf ./data ./drive/MyDrive/FDU-AI-PRML/Exercise1\n",
        "!mv FDU-AI-PRML-2024Fall/Exercises/Exercise1/fduml .\n",
        "!rm -rf FDU-AI-PRML-2024Fall"
      ],
      "metadata": {
        "colab": {
          "base_uri": "https://localhost:8080/"
        },
        "id": "ClT_BqsgAONe",
        "outputId": "66af530d-fc6b-4e35-c2e5-8be755d2d45a"
      },
      "id": "ClT_BqsgAONe",
      "execution_count": null,
      "outputs": [
        {
          "output_type": "stream",
          "name": "stdout",
          "text": [
            "Cloning into 'FDU-AI-PRML-2024Fall'...\n",
            "remote: Enumerating objects: 35, done.\u001b[K\n",
            "remote: Counting objects: 100% (35/35), done.\u001b[K\n",
            "remote: Compressing objects: 100% (21/21), done.\u001b[K\n",
            "remote: Total 35 (delta 7), reused 35 (delta 7), pack-reused 0 (from 0)\u001b[K\n",
            "Receiving objects: 100% (35/35), 172.63 KiB | 2.18 MiB/s, done.\n",
            "Resolving deltas: 100% (7/7), done.\n",
            "mv: cannot move 'FDU-AI-PRML-2024Fall/Exercises/Exercise1/data' to './data': Directory not empty\n",
            "mv: cannot move 'FDU-AI-PRML-2024Fall/Exercises/Exercise1/fduml' to './fduml': Directory not empty\n"
          ]
        }
      ]
    },
    {
      "cell_type": "markdown",
      "source": [
        "**Save** your modification to google.drive"
      ],
      "metadata": {
        "id": "Z75mjGGRJzqF"
      },
      "id": "Z75mjGGRJzqF"
    },
    {
      "cell_type": "code",
      "source": [
        "!cp -rf ./fduml ./drive/MyDrive/FDU-AI-PRML/Exercise1"
      ],
      "metadata": {
        "id": "Gv6JrZnJI-zw"
      },
      "id": "Gv6JrZnJI-zw",
      "execution_count": null,
      "outputs": []
    },
    {
      "cell_type": "markdown",
      "source": [
        "Import your modification on google here:\n",
        "\n",
        "**This code will overwrite your modification here!**"
      ],
      "metadata": {
        "id": "qnJHrTvPLAKy"
      },
      "id": "qnJHrTvPLAKy"
    },
    {
      "cell_type": "code",
      "source": [
        "!cp -rf ./drive/MyDrive/FDU-AI-PRML/Exercise1/fduml ./fduml"
      ],
      "metadata": {
        "id": "P3DhP_njK7go"
      },
      "id": "P3DhP_njK7go",
      "execution_count": null,
      "outputs": []
    },
    {
      "cell_type": "markdown",
      "id": "faa9e6fb23a5356",
      "metadata": {
        "collapsed": false,
        "id": "faa9e6fb23a5356"
      },
      "source": [
        "# FDU AI PRML 2024 Fall Exercise 1 - Linear Models\n",
        "\n",
        "Name: Xuan Zhang\n",
        "\n",
        "Student ID:\n",
        "\n",
        "In this exercise, you need to complete the implementation of an ordinary least squares Linear Regression model, and a naive Softmax classifier on our simple `fduml` framework. We have written most of the code for you already, and you only need to fill in the most essential parts marked in TODO. We have also prepared several test cases for you to check if your code works correctly. Furthermore, you can also test the accuracy of your code by comparing its output with the output of Sklearn."
      ]
    },
    {
      "cell_type": "code",
      "execution_count": null,
      "id": "fc42f1d4c0679bec",
      "metadata": {
        "id": "fc42f1d4c0679bec",
        "colab": {
          "base_uri": "https://localhost:8080/"
        },
        "outputId": "7dae1b15-4986-4a67-c87b-021c3ad56c83"
      },
      "outputs": [
        {
          "output_type": "stream",
          "name": "stdout",
          "text": [
            "The autoreload extension is already loaded. To reload it, use:\n",
            "  %reload_ext autoreload\n"
          ]
        }
      ],
      "source": [
        "# Auto reload external modules, which means you can modify the code of our fduml implementation without restarting the kernel.\n",
        "%load_ext autoreload\n",
        "%autoreload 2"
      ]
    },
    {
      "cell_type": "code",
      "execution_count": null,
      "id": "bbac084f253b88a6",
      "metadata": {
        "id": "bbac084f253b88a6"
      },
      "outputs": [],
      "source": [
        "# Basic imports\n",
        "import numpy as np\n",
        "import random\n",
        "import matplotlib.pyplot as plt\n",
        "from matplotlib import rc\n",
        "\n",
        "np.random.seed(42)\n",
        "random.seed(42)"
      ]
    },
    {
      "cell_type": "markdown",
      "id": "ec7c6a735bfd8359",
      "metadata": {
        "collapsed": false,
        "id": "ec7c6a735bfd8359"
      },
      "source": [
        "## Implement and test (40 points)\n",
        "\n",
        "We have prepared several test cases for you to check if your code works correctly. After you write your own implementation, try the following code for testing."
      ]
    },
    {
      "cell_type": "code",
      "execution_count": null,
      "id": "5df4695e706b454e",
      "metadata": {
        "id": "5df4695e706b454e"
      },
      "outputs": [],
      "source": [
        "from fduml import *"
      ]
    },
    {
      "cell_type": "code",
      "execution_count": 57,
      "id": "5bfb326e10ed1fb2",
      "metadata": {
        "id": "5bfb326e10ed1fb2",
        "colab": {
          "base_uri": "https://localhost:8080/"
        },
        "outputId": "f647671f-5dcd-40b3-8d84-8acc26fa2b9e"
      },
      "outputs": [
        {
          "output_type": "stream",
          "name": "stdout",
          "text": [
            "Test1...\n",
            "Test1 Checked!\n",
            "Test2...\n",
            "Test2 Checked!\n"
          ]
        }
      ],
      "source": [
        "# Test Linear Regression (10 points)\n",
        "\n",
        "from fduml.linear_model.tests.test_linear_reg import test_linear_regression\n",
        "test_linear_regression()"
      ]
    },
    {
      "cell_type": "code",
      "execution_count": null,
      "id": "3647c62a396fcb50",
      "metadata": {
        "id": "3647c62a396fcb50",
        "colab": {
          "base_uri": "https://localhost:8080/",
          "height": 495
        },
        "outputId": "ef4e1ad7-bfa4-4a77-aef9-0b49371d83e1"
      },
      "outputs": [
        {
          "output_type": "error",
          "ename": "AssertionError",
          "evalue": "\nArrays are not equal\n\nMismatched elements: 2 / 3 (66.7%)\nMax absolute difference: 2.\nMax relative difference: 1.\n x: array([0., 0., 0.])\n y: array([2, 1, 0])",
          "traceback": [
            "\u001b[0;31m---------------------------------------------------------------------------\u001b[0m",
            "\u001b[0;31mAssertionError\u001b[0m                            Traceback (most recent call last)",
            "\u001b[0;32m<ipython-input-39-53b143877b6b>\u001b[0m in \u001b[0;36m<cell line: 4>\u001b[0;34m()\u001b[0m\n\u001b[1;32m      2\u001b[0m \u001b[0;34m\u001b[0m\u001b[0m\n\u001b[1;32m      3\u001b[0m \u001b[0;32mfrom\u001b[0m \u001b[0mfduml\u001b[0m\u001b[0;34m.\u001b[0m\u001b[0mlinear_model\u001b[0m\u001b[0;34m.\u001b[0m\u001b[0mtests\u001b[0m\u001b[0;34m.\u001b[0m\u001b[0mtest_softmax\u001b[0m \u001b[0;32mimport\u001b[0m \u001b[0mtest_softmax\u001b[0m\u001b[0;34m\u001b[0m\u001b[0;34m\u001b[0m\u001b[0m\n\u001b[0;32m----> 4\u001b[0;31m \u001b[0mtest_softmax\u001b[0m\u001b[0;34m(\u001b[0m\u001b[0;34m)\u001b[0m\u001b[0;34m\u001b[0m\u001b[0;34m\u001b[0m\u001b[0m\n\u001b[0m",
            "\u001b[0;32m/content/fduml/linear_model/tests/test_softmax.py\u001b[0m in \u001b[0;36mtest_softmax\u001b[0;34m()\u001b[0m\n\u001b[1;32m     17\u001b[0m \u001b[0;34m\u001b[0m\u001b[0m\n\u001b[1;32m     18\u001b[0m     \u001b[0;32massert\u001b[0m \u001b[0mpredicted\u001b[0m\u001b[0;34m.\u001b[0m\u001b[0mshape\u001b[0m \u001b[0;34m==\u001b[0m \u001b[0;34m(\u001b[0m\u001b[0mn_samples\u001b[0m\u001b[0;34m,\u001b[0m\u001b[0;34m)\u001b[0m\u001b[0;34m\u001b[0m\u001b[0;34m\u001b[0m\u001b[0m\n\u001b[0;32m---> 19\u001b[0;31m     \u001b[0massert_array_equal\u001b[0m\u001b[0;34m(\u001b[0m\u001b[0mpredicted\u001b[0m\u001b[0;34m,\u001b[0m \u001b[0my\u001b[0m\u001b[0;34m)\u001b[0m\u001b[0;34m\u001b[0m\u001b[0;34m\u001b[0m\u001b[0m\n\u001b[0m\u001b[1;32m     20\u001b[0m \u001b[0;34m\u001b[0m\u001b[0m\n\u001b[1;32m     21\u001b[0m     \u001b[0mclf\u001b[0m \u001b[0;34m=\u001b[0m \u001b[0mSoftmaxClassifier\u001b[0m\u001b[0;34m(\u001b[0m\u001b[0mloss_type\u001b[0m\u001b[0;34m=\u001b[0m\u001b[0;34m'vectorized'\u001b[0m\u001b[0;34m)\u001b[0m\u001b[0;34m\u001b[0m\u001b[0;34m\u001b[0m\u001b[0m\n",
            "    \u001b[0;31m[... skipping hidden 1 frame]\u001b[0m\n",
            "\u001b[0;32m/usr/lib/python3.10/contextlib.py\u001b[0m in \u001b[0;36minner\u001b[0;34m(*args, **kwds)\u001b[0m\n\u001b[1;32m     77\u001b[0m         \u001b[0;32mdef\u001b[0m \u001b[0minner\u001b[0m\u001b[0;34m(\u001b[0m\u001b[0;34m*\u001b[0m\u001b[0margs\u001b[0m\u001b[0;34m,\u001b[0m \u001b[0;34m**\u001b[0m\u001b[0mkwds\u001b[0m\u001b[0;34m)\u001b[0m\u001b[0;34m:\u001b[0m\u001b[0;34m\u001b[0m\u001b[0;34m\u001b[0m\u001b[0m\n\u001b[1;32m     78\u001b[0m             \u001b[0;32mwith\u001b[0m \u001b[0mself\u001b[0m\u001b[0;34m.\u001b[0m\u001b[0m_recreate_cm\u001b[0m\u001b[0;34m(\u001b[0m\u001b[0;34m)\u001b[0m\u001b[0;34m:\u001b[0m\u001b[0;34m\u001b[0m\u001b[0;34m\u001b[0m\u001b[0m\n\u001b[0;32m---> 79\u001b[0;31m                 \u001b[0;32mreturn\u001b[0m \u001b[0mfunc\u001b[0m\u001b[0;34m(\u001b[0m\u001b[0;34m*\u001b[0m\u001b[0margs\u001b[0m\u001b[0;34m,\u001b[0m \u001b[0;34m**\u001b[0m\u001b[0mkwds\u001b[0m\u001b[0;34m)\u001b[0m\u001b[0;34m\u001b[0m\u001b[0;34m\u001b[0m\u001b[0m\n\u001b[0m\u001b[1;32m     80\u001b[0m         \u001b[0;32mreturn\u001b[0m \u001b[0minner\u001b[0m\u001b[0;34m\u001b[0m\u001b[0;34m\u001b[0m\u001b[0m\n\u001b[1;32m     81\u001b[0m \u001b[0;34m\u001b[0m\u001b[0m\n",
            "\u001b[0;32m/usr/local/lib/python3.10/dist-packages/numpy/testing/_private/utils.py\u001b[0m in \u001b[0;36massert_array_compare\u001b[0;34m(comparison, x, y, err_msg, verbose, header, precision, equal_nan, equal_inf, strict)\u001b[0m\n\u001b[1;32m    795\u001b[0m                                 \u001b[0mverbose\u001b[0m\u001b[0;34m=\u001b[0m\u001b[0mverbose\u001b[0m\u001b[0;34m,\u001b[0m \u001b[0mheader\u001b[0m\u001b[0;34m=\u001b[0m\u001b[0mheader\u001b[0m\u001b[0;34m,\u001b[0m\u001b[0;34m\u001b[0m\u001b[0;34m\u001b[0m\u001b[0m\n\u001b[1;32m    796\u001b[0m                                 names=('x', 'y'), precision=precision)\n\u001b[0;32m--> 797\u001b[0;31m             \u001b[0;32mraise\u001b[0m \u001b[0mAssertionError\u001b[0m\u001b[0;34m(\u001b[0m\u001b[0mmsg\u001b[0m\u001b[0;34m)\u001b[0m\u001b[0;34m\u001b[0m\u001b[0;34m\u001b[0m\u001b[0m\n\u001b[0m\u001b[1;32m    798\u001b[0m     \u001b[0;32mexcept\u001b[0m \u001b[0mValueError\u001b[0m\u001b[0;34m:\u001b[0m\u001b[0;34m\u001b[0m\u001b[0;34m\u001b[0m\u001b[0m\n\u001b[1;32m    799\u001b[0m         \u001b[0;32mimport\u001b[0m \u001b[0mtraceback\u001b[0m\u001b[0;34m\u001b[0m\u001b[0;34m\u001b[0m\u001b[0m\n",
            "\u001b[0;31mAssertionError\u001b[0m: \nArrays are not equal\n\nMismatched elements: 2 / 3 (66.7%)\nMax absolute difference: 2.\nMax relative difference: 1.\n x: array([0., 0., 0.])\n y: array([2, 1, 0])"
          ]
        }
      ],
      "source": [
        "# Test Softmax Regression (10 points)\n",
        "\n",
        "from fduml.linear_model.tests.test_softmax import test_softmax\n",
        "test_softmax()"
      ]
    },
    {
      "cell_type": "markdown",
      "id": "60c37d37",
      "metadata": {
        "id": "60c37d37"
      },
      "source": [
        "## Load data and fit the model (40 points)\n",
        "\n",
        "Inside the data directory we have prepared a classification dataset, split into training and test sets. In this part, you will load the data and fit the model to the training data. Then, you will evaluate the model on the test data."
      ]
    },
    {
      "cell_type": "code",
      "execution_count": null,
      "id": "c031af96",
      "metadata": {
        "id": "c031af96"
      },
      "outputs": [],
      "source": [
        "# Load the water potability dataset"
      ]
    },
    {
      "cell_type": "code",
      "execution_count": null,
      "id": "afdbd119",
      "metadata": {
        "id": "afdbd119"
      },
      "outputs": [],
      "source": [
        "# Fit a LinearRegression model and a SoftmaxClassifier to the water potability train set"
      ]
    },
    {
      "cell_type": "code",
      "execution_count": null,
      "id": "2adacae0",
      "metadata": {
        "id": "2adacae0"
      },
      "outputs": [],
      "source": [
        "# Evaluate these models on the water potability test set"
      ]
    },
    {
      "cell_type": "markdown",
      "id": "d865aa4552324124",
      "metadata": {
        "collapsed": false,
        "id": "d865aa4552324124"
      },
      "source": [
        "## Compare with Sklearn (20 points)\n",
        "\n",
        "Since the interface of our `fduml` is the same as that of sklearn, you can easily compare the output of your implementation with that of sklearn. In this part, try to generate test data and compare the accuracy and running time of your implementation with that of sklearn. You can use the following code for comparison.\n",
        "\n",
        "In the conclusion part, try to answer the following questions:\n",
        "\n",
        "- Is the accuracy of your implementation the same as that of sklearn? If not, what can be the reason?\n",
        "\n",
        "- Is the running time of your implementation the same as that of sklearn? If not, what can be the reason?\n",
        "\n",
        "- If there is any special thing you want to mention, please write it down.\n",
        "\n",
        "Note that we do not require you to match the accuracy and running time of sklearn (which can be quite difficult), but you should be able to explain the reason if they are different."
      ]
    },
    {
      "cell_type": "code",
      "execution_count": null,
      "id": "e7521a793b9a5488",
      "metadata": {
        "id": "e7521a793b9a5488"
      },
      "outputs": [],
      "source": []
    },
    {
      "cell_type": "markdown",
      "id": "499ef0501ed482fb",
      "metadata": {
        "collapsed": false,
        "id": "499ef0501ed482fb"
      },
      "source": [
        "## Conclusion"
      ]
    }
  ],
  "metadata": {
    "kernelspec": {
      "display_name": "Python 3",
      "language": "python",
      "name": "python3"
    },
    "language_info": {
      "codemirror_mode": {
        "name": "ipython",
        "version": 2
      },
      "file_extension": ".py",
      "mimetype": "text/x-python",
      "name": "python",
      "nbconvert_exporter": "python",
      "pygments_lexer": "ipython2",
      "version": "2.7.6"
    },
    "colab": {
      "provenance": [],
      "include_colab_link": true
    }
  },
  "nbformat": 4,
  "nbformat_minor": 5
}